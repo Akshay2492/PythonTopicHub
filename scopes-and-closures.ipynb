{
 "cells": [
  {
   "cell_type": "markdown",
   "metadata": {},
   "source": [
    "### Global variables can be referenced within the local scope of a user defined function(UDF)\n",
    "##### - Simply referincing the globally defined variable within local scope of a UDF doesn't change the global var \"a\""
   ]
  },
  {
   "cell_type": "code",
   "execution_count": 9,
   "metadata": {},
   "outputs": [],
   "source": [
    "a=2\n",
    "def print_powered(x):\n",
    "    print(a) # this line is simple printing the value of a which is globally defined\n",
    "    pow_value=x**a\n",
    "    return pow_value"
   ]
  },
  {
   "cell_type": "code",
   "execution_count": 10,
   "metadata": {},
   "outputs": [
    {
     "name": "stdout",
     "output_type": "stream",
     "text": [
      "2\n",
      "2\n",
      "100\n",
      "2\n"
     ]
    }
   ],
   "source": [
    "print(a) #simply printing the globally defined \"a\"\n",
    "print(print_powered(10)) # printing square of 10 while using the globally defined \"a\" to raise the power of x\n",
    "print(a) # checking the value of globally defined variable after functio has been executed which has used it"
   ]
  },
  {
   "cell_type": "markdown",
   "metadata": {},
   "source": [
    "##### - But if we try to change the Global var inside UDF, say assign it to a different value then it will not work, reason being it's of global scope and cannot be changes locally"
   ]
  },
  {
   "cell_type": "code",
   "execution_count": 28,
   "metadata": {},
   "outputs": [
    {
     "name": "stdout",
     "output_type": "stream",
     "text": [
      "2\n"
     ]
    },
    {
     "ename": "UnboundLocalError",
     "evalue": "local variable 'a' referenced before assignment",
     "output_type": "error",
     "traceback": [
      "\u001b[0;31m---------------------------------------------------------------------------\u001b[0m",
      "\u001b[0;31mUnboundLocalError\u001b[0m                         Traceback (most recent call last)",
      "Cell \u001b[0;32mIn[28], line 9\u001b[0m\n\u001b[1;32m      6\u001b[0m     \u001b[38;5;28;01mreturn\u001b[39;00m pow_value\n\u001b[1;32m      8\u001b[0m \u001b[38;5;28mprint\u001b[39m(a) \u001b[38;5;66;03m#simply printing the globally defined \"a\"\u001b[39;00m\n\u001b[0;32m----> 9\u001b[0m \u001b[38;5;28mprint\u001b[39m(\u001b[43mprint_powered\u001b[49m\u001b[43m(\u001b[49m\u001b[38;5;241;43m10\u001b[39;49m\u001b[43m)\u001b[49m) \u001b[38;5;66;03m# printing square of 10 while using the globally defined \"a\" to raise the power of x\u001b[39;00m\n\u001b[1;32m     10\u001b[0m \u001b[38;5;28mprint\u001b[39m(a) \u001b[38;5;66;03m# checking the value of globally defined variable after functio has been executed which has used it\u001b[39;00m\n\u001b[1;32m     12\u001b[0m \u001b[38;5;66;03m# This fails because the moment it's assigned inside UDF by \"a=3\" then a becomes another variable inside the local scope of UDF\u001b[39;00m\n\u001b[1;32m     13\u001b[0m \u001b[38;5;66;03m# And then the above \"print(a)\" statement is invalid because that's before a is assigned a value\u001b[39;00m\n",
      "Cell \u001b[0;32mIn[28], line 3\u001b[0m, in \u001b[0;36mprint_powered\u001b[0;34m(x)\u001b[0m\n\u001b[1;32m      2\u001b[0m \u001b[38;5;28;01mdef\u001b[39;00m \u001b[38;5;21mprint_powered\u001b[39m(x):\n\u001b[0;32m----> 3\u001b[0m     \u001b[38;5;28mprint\u001b[39m(\u001b[43ma\u001b[49m) \u001b[38;5;66;03m# this line is simple printing the value of a which is globally defined\u001b[39;00m\n\u001b[1;32m      4\u001b[0m     a\u001b[38;5;241m=\u001b[39m\u001b[38;5;241m3\u001b[39m\n\u001b[1;32m      5\u001b[0m     pow_value\u001b[38;5;241m=\u001b[39mx\u001b[38;5;241m*\u001b[39m\u001b[38;5;241m*\u001b[39ma\n",
      "\u001b[0;31mUnboundLocalError\u001b[0m: local variable 'a' referenced before assignment"
     ]
    }
   ],
   "source": [
    "a=2\n",
    "def print_powered(x):\n",
    "    print(a) # this line is simple printing the value of a which is globally defined\n",
    "    a=3\n",
    "    pow_value=x**a\n",
    "    return pow_value\n",
    "\n",
    "print(a) #simply printing the globally defined \"a\"\n",
    "print(print_powered(10)) # printing square of 10 while using the globally defined \"a\" to raise the power of x\n",
    "print(a) # checking the value of globally defined variable after functio has been executed which has used it\n",
    "\n",
    "# This fails because the moment it's assigned inside UDF by \"a=3\" then a becomes another variable inside the local scope of UDF\n",
    "# And then the above \"print(a)\" statement is invalid because that's before a is assigned a value"
   ]
  },
  {
   "cell_type": "markdown",
   "metadata": {},
   "source": [
    "#### Assigning Global characteristics to the local scoped variable makes the global var accessible for reassignment also"
   ]
  },
  {
   "cell_type": "code",
   "execution_count": 30,
   "metadata": {},
   "outputs": [
    {
     "name": "stdout",
     "output_type": "stream",
     "text": [
      "Valuse of a after UDF execution > a:2\n",
      "2\n",
      "2\n",
      "1000\n",
      "Valuse of a after UDF execution > a:3\n"
     ]
    }
   ],
   "source": [
    "a=2\n",
    "def print_powered(x):\n",
    "    global a\n",
    "    print(a) # this line is simple printing the value of a which is globally defined\n",
    "    a=3\n",
    "    pow_value=x**a\n",
    "    return pow_value\n",
    "\n",
    "\n",
    "print(f\"Valuse of a before UDF execution > a:{a}\") #simply printing the globally defined \"a\"\n",
    "print(print_powered(10)) # printing square of 10 while using the globally defined \"a\" to raise the power of x\n",
    "print(f\"Valuse of a after UDF execution > a:{a}\") # checking the value of globally defined variable after functio has been executed which has used it\n",
    "\n",
    "# This fails because the moment it's assigned inside UDF by \"a=3\" then a becomes another variable inside the local scope of UDF\n",
    "# And then the above \"print(a)\" statement is invalid because that's before a is assigned a value"
   ]
  },
  {
   "cell_type": "code",
   "execution_count": null,
   "metadata": {},
   "outputs": [],
   "source": []
  }
 ],
 "metadata": {
  "kernelspec": {
   "display_name": "Python 3",
   "language": "python",
   "name": "python3"
  },
  "language_info": {
   "codemirror_mode": {
    "name": "ipython",
    "version": 3
   },
   "file_extension": ".py",
   "mimetype": "text/x-python",
   "name": "python",
   "nbconvert_exporter": "python",
   "pygments_lexer": "ipython3",
   "version": "3.10.13"
  }
 },
 "nbformat": 4,
 "nbformat_minor": 2
}
