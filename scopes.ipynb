{
 "cells": [
  {
   "cell_type": "markdown",
   "metadata": {},
   "source": [
    "### Global variables can be referenced within the local scope of a user defined function(UDF)\n",
    "##### - Simply referincing the globally defined variable within local scope of a UDF doesn't change the global var \"a\""
   ]
  },
  {
   "cell_type": "code",
   "execution_count": 9,
   "metadata": {},
   "outputs": [],
   "source": [
    "a=2\n",
    "def print_powered(x):\n",
    "    print(a) # this line is simple printing the value of a which is globally defined\n",
    "    pow_value=x**a\n",
    "    return pow_value"
   ]
  },
  {
   "cell_type": "code",
   "execution_count": 10,
   "metadata": {},
   "outputs": [
    {
     "name": "stdout",
     "output_type": "stream",
     "text": [
      "2\n",
      "2\n",
      "100\n",
      "2\n"
     ]
    }
   ],
   "source": [
    "print(a) #simply printing the globally defined \"a\"\n",
    "print(print_powered(10)) # printing square of 10 while using the globally defined \"a\" to raise the power of x\n",
    "print(a) # checking the value of globally defined variable after functio has been executed which has used it"
   ]
  },
  {
   "cell_type": "markdown",
   "metadata": {},
   "source": [
    "##### - But if we try to change the Global var inside UDF, say assign it to a different value then it will not work, reason being it's of global scope and cannot be changes locally"
   ]
  },
  {
   "cell_type": "code",
   "execution_count": 28,
   "metadata": {},
   "outputs": [
    {
     "name": "stdout",
     "output_type": "stream",
     "text": [
      "2\n"
     ]
    },
    {
     "ename": "UnboundLocalError",
     "evalue": "local variable 'a' referenced before assignment",
     "output_type": "error",
     "traceback": [
      "\u001b[0;31m---------------------------------------------------------------------------\u001b[0m",
      "\u001b[0;31mUnboundLocalError\u001b[0m                         Traceback (most recent call last)",
      "Cell \u001b[0;32mIn[28], line 9\u001b[0m\n\u001b[1;32m      6\u001b[0m     \u001b[38;5;28;01mreturn\u001b[39;00m pow_value\n\u001b[1;32m      8\u001b[0m \u001b[38;5;28mprint\u001b[39m(a) \u001b[38;5;66;03m#simply printing the globally defined \"a\"\u001b[39;00m\n\u001b[0;32m----> 9\u001b[0m \u001b[38;5;28mprint\u001b[39m(\u001b[43mprint_powered\u001b[49m\u001b[43m(\u001b[49m\u001b[38;5;241;43m10\u001b[39;49m\u001b[43m)\u001b[49m) \u001b[38;5;66;03m# printing square of 10 while using the globally defined \"a\" to raise the power of x\u001b[39;00m\n\u001b[1;32m     10\u001b[0m \u001b[38;5;28mprint\u001b[39m(a) \u001b[38;5;66;03m# checking the value of globally defined variable after functio has been executed which has used it\u001b[39;00m\n\u001b[1;32m     12\u001b[0m \u001b[38;5;66;03m# This fails because the moment it's assigned inside UDF by \"a=3\" then a becomes another variable inside the local scope of UDF\u001b[39;00m\n\u001b[1;32m     13\u001b[0m \u001b[38;5;66;03m# And then the above \"print(a)\" statement is invalid because that's before a is assigned a value\u001b[39;00m\n",
      "Cell \u001b[0;32mIn[28], line 3\u001b[0m, in \u001b[0;36mprint_powered\u001b[0;34m(x)\u001b[0m\n\u001b[1;32m      2\u001b[0m \u001b[38;5;28;01mdef\u001b[39;00m \u001b[38;5;21mprint_powered\u001b[39m(x):\n\u001b[0;32m----> 3\u001b[0m     \u001b[38;5;28mprint\u001b[39m(\u001b[43ma\u001b[49m) \u001b[38;5;66;03m# this line is simple printing the value of a which is globally defined\u001b[39;00m\n\u001b[1;32m      4\u001b[0m     a\u001b[38;5;241m=\u001b[39m\u001b[38;5;241m3\u001b[39m\n\u001b[1;32m      5\u001b[0m     pow_value\u001b[38;5;241m=\u001b[39mx\u001b[38;5;241m*\u001b[39m\u001b[38;5;241m*\u001b[39ma\n",
      "\u001b[0;31mUnboundLocalError\u001b[0m: local variable 'a' referenced before assignment"
     ]
    }
   ],
   "source": [
    "a=2\n",
    "def print_powered(x):\n",
    "    print(a) # this line is simple printing the value of a which is globally defined\n",
    "    a=3\n",
    "    pow_value=x**a\n",
    "    return pow_value\n",
    "\n",
    "print(a) #simply printing the globally defined \"a\"\n",
    "print(print_powered(10)) # printing square of 10 while using the globally defined \"a\" to raise the power of x\n",
    "print(a) # checking the value of globally defined variable after functio has been executed which has used it\n",
    "\n",
    "# This fails because the moment it's assigned inside UDF by \"a=3\" then a becomes another variable inside the local scope of UDF\n",
    "# And then the above \"print(a)\" statement is invalid because that's before a is assigned a value"
   ]
  },
  {
   "cell_type": "markdown",
   "metadata": {},
   "source": [
    "#### Assigning Global characteristics to the local scoped variable makes the global var accessible for reassignment also"
   ]
  },
  {
   "cell_type": "code",
   "execution_count": 30,
   "metadata": {},
   "outputs": [
    {
     "name": "stdout",
     "output_type": "stream",
     "text": [
      "Valuse of a after UDF execution > a:2\n",
      "2\n",
      "2\n",
      "1000\n",
      "Valuse of a after UDF execution > a:3\n"
     ]
    }
   ],
   "source": [
    "a=2\n",
    "def print_powered(x):\n",
    "    global a\n",
    "    print(a) # this line is simple printing the value of a which is globally defined\n",
    "    a=3\n",
    "    pow_value=x**a\n",
    "    return pow_value\n",
    "\n",
    "\n",
    "print(f\"Valuse of a before UDF execution > a:{a}\") #simply printing the globally defined \"a\"\n",
    "print(print_powered(10)) # printing square of 10 while using the globally defined \"a\" to raise the power of x\n",
    "print(f\"Valuse of a after UDF execution > a:{a}\") # checking the value of globally defined variable after functio has been executed which has used it\n",
    "\n",
    "# This fails because the moment it's assigned inside UDF by \"a=3\" then a becomes another variable inside the local scope of UDF\n",
    "# And then the above \"print(a)\" statement is invalid because that's before a is assigned a value"
   ]
  },
  {
   "cell_type": "markdown",
   "metadata": {},
   "source": [
    "### Non-Local Scope\n",
    "##### When there are nested UDFs then any inner udf can access local variable of it's directly above udf this is called Non Local scope"
   ]
  },
  {
   "cell_type": "code",
   "execution_count": 1,
   "metadata": {},
   "outputs": [],
   "source": [
    "global_var=\"johar\"\n",
    "\n",
    "def outermost_func():\n",
    "    outermost_local_var=\"Hello\"\n",
    "    def inner1():\n",
    "        def inner2():\n",
    "            print(outermost_local_var)\n",
    "        inner2()\n",
    "    inner1()"
   ]
  },
  {
   "cell_type": "code",
   "execution_count": 2,
   "metadata": {},
   "outputs": [
    {
     "name": "stdout",
     "output_type": "stream",
     "text": [
      "Hello\n"
     ]
    }
   ],
   "source": [
    "outermost_func()"
   ]
  },
  {
   "cell_type": "code",
   "execution_count": 5,
   "metadata": {},
   "outputs": [
    {
     "name": "stdout",
     "output_type": "stream",
     "text": [
      "Namaste\n",
      "Global value post execution greeting : johar\n"
     ]
    }
   ],
   "source": [
    "greeting=\"johar\"\n",
    "\n",
    "def outermost_func():\n",
    "    greeting=\"Hello\" #local for outermost_func but Non-Local for inner1\n",
    "    def inner1():\n",
    "        greeting=\"Namaste\"\n",
    "        def inner2():\n",
    "            print(greeting)\n",
    "        inner2()\n",
    "    inner1()\n",
    "\n",
    "outermost_func()\n",
    "print(f\"Global value post execution greeting : {greeting}\")"
   ]
  },
  {
   "cell_type": "markdown",
   "metadata": {},
   "source": [
    "##### Now changing the code jst above to use inner1 value in inner2 which is a non-local for inner2 wrt inner1\n",
    "##### - we will be using the exact same code to understand different behaviour of non-local scope by uncommenting stuffs"
   ]
  },
  {
   "cell_type": "code",
   "execution_count": 14,
   "metadata": {},
   "outputs": [
    {
     "name": "stdout",
     "output_type": "stream",
     "text": [
      "greeting as global to begin with : johar\n",
      "greeting inside outermost_func : Hello\n",
      "greeting inside inner1 : Hello\n",
      "greeting inside inner2 : Hello\n",
      "Global value post execution greeting : johar\n"
     ]
    }
   ],
   "source": [
    "greeting=\"johar\"\n",
    "print(f\"greeting as global to begin with : {greeting}\")\n",
    "def outermost_func():\n",
    "    greeting=\"Hello\" #local for outermost_func but Non-Local for inner1\n",
    "    print(f\"greeting inside outermost_func : {greeting}\")\n",
    "    def inner1():\n",
    "        # nonlocal greeting #only change from above\n",
    "        print(f\"greeting inside inner1 : {greeting}\")\n",
    "        # greeting=\"Namaste\" #this is intentionally commented\n",
    "        def inner2():\n",
    "            # nonlocal greeting\n",
    "            # greeting=\"Suppp!!\" #setting the value inside inner2\n",
    "            print(f\"greeting inside inner2 : {greeting}\")\n",
    "        inner2()\n",
    "    inner1()\n",
    "\n",
    "outermost_func()\n",
    "print(f\"Global value post execution greeting : {greeting}\")"
   ]
  },
  {
   "cell_type": "markdown",
   "metadata": {},
   "source": [
    "##### DEclaring nonLocal inside inner1 and setting the value to \"Namaste\""
   ]
  },
  {
   "cell_type": "code",
   "execution_count": 19,
   "metadata": {},
   "outputs": [
    {
     "name": "stdout",
     "output_type": "stream",
     "text": [
      "greeting as global to begin with : johar\n",
      "greeting inside outermost_func : Hello\n",
      "greeting inside inner1 : Hello\n",
      "greeting inside inner1 (post-assignment) : Namaste\n",
      "greeting inside inner2 : Namaste\n",
      "Global value post execution greeting : johar\n"
     ]
    }
   ],
   "source": [
    "greeting=\"johar\"\n",
    "print(f\"greeting as global to begin with : {greeting}\")\n",
    "def outermost_func():\n",
    "    greeting=\"Hello\" #local for outermost_func since it's assigned, if not for this assignment then next line would have printed global \"johar\"\n",
    "    print(f\"greeting inside outermost_func : {greeting}\")\n",
    "    def inner1():\n",
    "        nonlocal greeting # means will fetch value from it's parent scope(outermost_func) and can be changed localy here\n",
    "        print(f\"greeting inside inner1 : {greeting}\")\n",
    "        greeting=\"Namaste\"\n",
    "        print(f\"greeting inside inner1 (post-assignment) : {greeting}\")\n",
    "        def inner2():\n",
    "            # nonlocal greeting\n",
    "            # greeting=\"Suppp!!\" #setting the value inside inner2\n",
    "            print(f\"greeting inside inner2 : {greeting}\")\n",
    "        inner2()\n",
    "    inner1()\n",
    "\n",
    "outermost_func()\n",
    "print(f\"Global value post execution greeting : {greeting}\")"
   ]
  },
  {
   "cell_type": "markdown",
   "metadata": {},
   "source": [
    "##### Declaring value inside inner2 now and exploring"
   ]
  },
  {
   "cell_type": "code",
   "execution_count": 20,
   "metadata": {},
   "outputs": [
    {
     "name": "stdout",
     "output_type": "stream",
     "text": [
      "greeting as global to begin with : johar\n",
      "greeting inside outermost_func : Hello\n",
      "greeting inside inner1 : Hello\n",
      "greeting inside inner1 (post-assignment) : Namaste\n",
      "greeting inside inner2 : Suppp!!\n",
      "Global value post execution greeting : johar\n"
     ]
    }
   ],
   "source": [
    "greeting=\"johar\"\n",
    "print(f\"greeting as global to begin with : {greeting}\")\n",
    "def outermost_func():\n",
    "    greeting=\"Hello\" #local for outermost_func since it's assigned, if not for this assignment then next line would have printed global \"johar\"\n",
    "    print(f\"greeting inside outermost_func : {greeting}\")\n",
    "    def inner1():\n",
    "        nonlocal greeting # means will fetch value from it's parent scope(outermost_func) and can be changed localy here\n",
    "        print(f\"greeting inside inner1 : {greeting}\")\n",
    "        greeting=\"Namaste\"\n",
    "        print(f\"greeting inside inner1 (post-assignment) : {greeting}\")\n",
    "        def inner2():\n",
    "            nonlocal greeting\n",
    "            greeting=\"Suppp!!\"\n",
    "            print(f\"greeting inside inner2 : {greeting}\")\n",
    "        inner2()\n",
    "    inner1()\n",
    "\n",
    "outermost_func()\n",
    "print(f\"Global value post execution greeting : {greeting}\")"
   ]
  },
  {
   "cell_type": "markdown",
   "metadata": {},
   "source": [
    "##### Testing global among nonlocal"
   ]
  },
  {
   "cell_type": "code",
   "execution_count": 23,
   "metadata": {},
   "outputs": [
    {
     "name": "stdout",
     "output_type": "stream",
     "text": [
      "greeting as global to begin with : johar\n",
      "greeting inside outermost_func : Hello\n",
      "greeting inside inner1 : Hello\n",
      "greeting inside inner1 (post-assignment) : Namaste\n",
      "greeting inside inner2 (before): johar\n",
      "greeting inside inner2 : Suppp!!\n",
      "Global value post execution greeting : Suppp!!\n"
     ]
    }
   ],
   "source": [
    "greeting=\"johar\"\n",
    "print(f\"greeting as global to begin with : {greeting}\")\n",
    "def outermost_func():\n",
    "    greeting=\"Hello\" #local for outermost_func since it's assigned, if not for this assignment then next line would have printed global \"johar\"\n",
    "    print(f\"greeting inside outermost_func : {greeting}\")\n",
    "    def inner1():\n",
    "        nonlocal greeting # means will fetch value from it's parent scope(outermost_func) and can be changed localy here\n",
    "        print(f\"greeting inside inner1 : {greeting}\")\n",
    "        greeting=\"Namaste\"\n",
    "        print(f\"greeting inside inner1 (post-assignment) : {greeting}\")\n",
    "        def inner2():\n",
    "            global greeting # ref to global scope of greeting\n",
    "            print(f\"greeting inside inner2 (before): {greeting}\")\n",
    "            greeting=\"Suppp!!\" # effectively changing the global scope of \"greeting\"\n",
    "            print(f\"greeting inside inner2 : {greeting}\")\n",
    "        inner2()\n",
    "    inner1()\n",
    "\n",
    "outermost_func()\n",
    "print(f\"Global value post execution greeting : {greeting}\")"
   ]
  },
  {
   "cell_type": "code",
   "execution_count": null,
   "metadata": {},
   "outputs": [],
   "source": []
  }
 ],
 "metadata": {
  "kernelspec": {
   "display_name": "Python 3",
   "language": "python",
   "name": "python3"
  },
  "language_info": {
   "codemirror_mode": {
    "name": "ipython",
    "version": 3
   },
   "file_extension": ".py",
   "mimetype": "text/x-python",
   "name": "python",
   "nbconvert_exporter": "python",
   "pygments_lexer": "ipython3",
   "version": "3.10.13"
  }
 },
 "nbformat": 4,
 "nbformat_minor": 2
}
